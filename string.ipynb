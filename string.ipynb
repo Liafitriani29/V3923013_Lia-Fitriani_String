{
 "cells": [
  {
   "cell_type": "code",
   "execution_count": 1,
   "id": "14d9a556-26d0-4a9a-80d8-387c3b45c1a8",
   "metadata": {
    "tags": []
   },
   "outputs": [
    {
     "name": "stdin",
     "output_type": "stream",
     "text": [
      "Masukkan Nama Anda :  Lia Fitriani\n"
     ]
    },
    {
     "name": "stdout",
     "output_type": "stream",
     "text": [
      "jumlah huruf dari nama lengkap Anda adalah: 11\n",
      "jumlah huruf vokal dari nama lengkap Anda adalah: 6\n",
      "jumlah huruf konsonan dari nama lengkap Anda adalah: 5\n"
     ]
    }
   ],
   "source": [
    "nama_lengkap = input (\"Masukkan Nama Anda : \")\n",
    "\n",
    "#Menghitung jumlah huruf dari nama lengkap\n",
    "jumlah_huruf = len(nama_lengkap.replace(\" \", \"\"))\n",
    "\n",
    "#Menghitung jumlah huruf vokal dari nama lengkap\n",
    "huruf_vokal = \"aiueoAIUEO\"\n",
    "jumlah_vokal = len([char for char in nama_lengkap if char in huruf_vokal])\n",
    "\n",
    "#Menghitung jumlah huruf konsonan dari nama lengkap\n",
    "jumlah_konsonan = jumlah_huruf - jumlah_vokal\n",
    "\n",
    "print(\"jumlah huruf dari nama lengkap Anda adalah:\", jumlah_huruf)\n",
    "print(\"jumlah huruf vokal dari nama lengkap Anda adalah:\", jumlah_vokal)\n",
    "print(\"jumlah huruf konsonan dari nama lengkap Anda adalah:\", jumlah_konsonan)"
   ]
  },
  {
   "cell_type": "code",
   "execution_count": null,
   "id": "ffbfd239-a371-4cb6-a9ea-566fab83af02",
   "metadata": {},
   "outputs": [],
   "source": []
  },
  {
   "cell_type": "code",
   "execution_count": null,
   "id": "493b4a89-fb5e-470d-8223-9a3e776cee8c",
   "metadata": {},
   "outputs": [],
   "source": []
  }
 ],
 "metadata": {
  "kernelspec": {
   "display_name": "Python 3 (ipykernel)",
   "language": "python",
   "name": "python3"
  },
  "language_info": {
   "codemirror_mode": {
    "name": "ipython",
    "version": 3
   },
   "file_extension": ".py",
   "mimetype": "text/x-python",
   "name": "python",
   "nbconvert_exporter": "python",
   "pygments_lexer": "ipython3",
   "version": "3.11.5"
  }
 },
 "nbformat": 4,
 "nbformat_minor": 5
}
